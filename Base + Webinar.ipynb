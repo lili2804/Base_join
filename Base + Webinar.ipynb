{
 "cells": [
  {
   "cell_type": "code",
   "execution_count": 114,
   "id": "0bd3007b",
   "metadata": {},
   "outputs": [],
   "source": [
    "# Импорт модулей\n",
    "import pandas as pd\n",
    "import datetime"
   ]
  },
  {
   "cell_type": "code",
   "execution_count": 98,
   "id": "df9e293f",
   "metadata": {},
   "outputs": [],
   "source": [
    "# Временный файл, который создаем из Webinar_join\n",
    "new_data = pd.DataFrame(columns=['ЦА','Фамилия','Имя','Отчество','Регион','Город','Телефон 1','Телефон 2','Email 1','Email 2','Организация / ЛПУ'])"
   ]
  },
  {
   "cell_type": "code",
   "execution_count": 99,
   "id": "f4fd4d01",
   "metadata": {},
   "outputs": [],
   "source": [
    "# Читаем базу полную\n",
    "Base = pd.read_excel('Base.xlsx', index_col=0) "
   ]
  },
  {
   "cell_type": "code",
   "execution_count": 100,
   "id": "ed30c17b",
   "metadata": {},
   "outputs": [],
   "source": [
    "# Читаем Webinar_join\n",
    "Webinar = pd.read_excel('Webinar_join.xlsx', index_col=0) "
   ]
  },
  {
   "cell_type": "code",
   "execution_count": 101,
   "id": "729b6d87",
   "metadata": {},
   "outputs": [
    {
     "name": "stdout",
     "output_type": "stream",
     "text": [
      "Дубликаты из базы стерли\n"
     ]
    }
   ],
   "source": [
    "# Вообще надо бы раньше, но пусть будет\n",
    "Base = Base.drop_duplicates(subset='Email')\n",
    "print('Дубликаты из базы стерли')"
   ]
  },
  {
   "cell_type": "code",
   "execution_count": 102,
   "id": "1acbd36f",
   "metadata": {},
   "outputs": [
    {
     "name": "stdout",
     "output_type": "stream",
     "text": [
      "Дубликаты из Webinar_join стерли\n"
     ]
    }
   ],
   "source": [
    "# Также уж и дубли в Webinar_join снесем\n",
    "Webinar = Webinar.drop_duplicates(subset='Email')\n",
    "print('Дубликаты из Webinar_join стерли')"
   ]
  },
  {
   "cell_type": "code",
   "execution_count": 103,
   "id": "4eab5152",
   "metadata": {},
   "outputs": [],
   "source": [
    "# Присвоили переменным столбцы списками \n",
    "name = list(Webinar['Имя'])\n",
    "surname = list(Webinar['Фамилия'])\n",
    "otchestvo = list(Webinar['Отчество'])\n",
    "work = list(Webinar['Организация / ЛПУ'])\n",
    "number = list(Webinar['Телефон'])\n",
    "mail = list(Webinar['Email'])\n",
    "city = list(Webinar['Город / Округ'])\n",
    "speciality = list(Webinar['Специальность'])"
   ]
  },
  {
   "cell_type": "code",
   "execution_count": 104,
   "id": "d3561649",
   "metadata": {},
   "outputs": [],
   "source": [
    "# Во временный файл перенесли переменные \n",
    "new_data['Имя'] = name\n",
    "new_data['Фамилия'] = surname\n",
    "new_data['Отчество'] = otchestvo\n",
    "new_data['Организация / ЛПУ'] = work\n",
    "new_data['Телефон'] = number\n",
    "new_data['Email'] = mail\n",
    "new_data['Город'] = city\n",
    "new_data['ЦА'] = speciality\n",
    "\n",
    "new_data = new_data.drop_duplicates(subset=['Email'])"
   ]
  },
  {
   "cell_type": "code",
   "execution_count": 105,
   "id": "4c899a36",
   "metadata": {
    "scrolled": true
   },
   "outputs": [
    {
     "name": "stdout",
     "output_type": "stream",
     "text": [
      "Дубликаты: 14846\n",
      "Новые контакты: 1783\n"
     ]
    }
   ],
   "source": [
    "# Убираем дубликаты по Email\n",
    "common = new_data.merge(Base, how = 'inner', on = ['Email'] )\n",
    "print(\"Дубликаты: \" + str(len(common)))\n",
    "\n",
    "new_data_withoutdb = new_data[~new_data['Email'].isin(common['Email'])] \n",
    "new_data_withoutdb = new_data_withoutdb.drop_duplicates()\n",
    "print(\"Новые контакты: \" + str(len(new_data_withoutdb)))"
   ]
  },
  {
   "cell_type": "code",
   "execution_count": 107,
   "id": "60373c99",
   "metadata": {},
   "outputs": [],
   "source": [
    "# Перенсели значения из Webinar_join в updated, затем все это в новую базу\n",
    "updated_Base = pd.DataFrame(columns = Base.columns.tolist())\n",
    "\n",
    "updated_name = list(Base['Имя']) + list(new_data_withoutdb['Имя']) \n",
    "updated_surname = list(Base['Фамилия']) + list(new_data_withoutdb['Фамилия'])\n",
    "updated_otchestvo = list(Base['Отчество']) + list(new_data_withoutdb['Отчество'])\n",
    "updated_work = list(Base['Организация / ЛПУ']) + list(new_data_withoutdb['Организация / ЛПУ'])\n",
    "updated_number = list(Base['Телефон']) + list(new_data_withoutdb['Телефон'])\n",
    "updated_mail = list(Base['Email']) + list(new_data_withoutdb['Email'])\n",
    "updated_city = list(Base['Город']) + list(new_data_withoutdb['Город'])\n",
    "updated_speciality = list(Base['ЦА']) + list(new_data_withoutdb['ЦА'])\n",
    "\n",
    "updated_Base['Имя'] = updated_name\n",
    "updated_Base['Фамилия'] = updated_surname\n",
    "updated_Base['Отчество'] = updated_otchestvo\n",
    "updated_Base['Организация / ЛПУ'] = updated_work\n",
    "updated_Base['Телефон'] = updated_number\n",
    "updated_Base['Email'] = updated_mail\n",
    "updated_Base['Город'] = updated_city\n",
    "updated_Base['ЦА'] = updated_speciality"
   ]
  },
  {
   "cell_type": "code",
   "execution_count": 110,
   "id": "78dcb37b",
   "metadata": {},
   "outputs": [],
   "source": [
    "# Сохранили базу с новыми контактами \n",
    "updated_Base.to_excel(\"Base_1.xlsx\", index = False)"
   ]
  },
  {
   "cell_type": "code",
   "execution_count": 116,
   "id": "3964b91b",
   "metadata": {
    "scrolled": true
   },
   "outputs": [
    {
     "name": "stdout",
     "output_type": "stream",
     "text": [
      "238918 2023-08-04 17:41:42.965244\n"
     ]
    }
   ],
   "source": [
    "print(len(updated_Base), datetime.datetime.now())"
   ]
  },
  {
   "cell_type": "code",
   "execution_count": null,
   "id": "84addafa",
   "metadata": {},
   "outputs": [],
   "source": []
  }
 ],
 "metadata": {
  "kernelspec": {
   "display_name": "Python 3 (ipykernel)",
   "language": "python",
   "name": "python3"
  },
  "language_info": {
   "codemirror_mode": {
    "name": "ipython",
    "version": 3
   },
   "file_extension": ".py",
   "mimetype": "text/x-python",
   "name": "python",
   "nbconvert_exporter": "python",
   "pygments_lexer": "ipython3",
   "version": "3.10.9"
  }
 },
 "nbformat": 4,
 "nbformat_minor": 5
}
